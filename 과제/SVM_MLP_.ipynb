{
 "cells": [
  {
   "cell_type": "code",
   "execution_count": 2,
   "id": "c9caf310",
   "metadata": {},
   "outputs": [],
   "source": [
    "import numpy as np\n",
    "import matplotlib.pyplot as plt\n",
    "import pandas as pd"
   ]
  },
  {
   "cell_type": "code",
   "execution_count": 3,
   "id": "a9dde6c1",
   "metadata": {},
   "outputs": [
    {
     "data": {
      "text/plain": [
       "Index(['id', 'gender', 'age', 'hypertension', 'heart_disease', 'ever_married',\n",
       "       'work_type', 'Residence_type', 'avg_glucose_level', 'bmi',\n",
       "       'smoking_status', 'stroke'],\n",
       "      dtype='object')"
      ]
     },
     "execution_count": 3,
     "metadata": {},
     "output_type": "execute_result"
    }
   ],
   "source": [
    "df=pd.read_csv(r\"C:\\고대 3-1\\비트\\python\\dataset.csv\")\n",
    "df.columns"
   ]
  },
  {
   "cell_type": "code",
   "execution_count": 4,
   "id": "be35ca20",
   "metadata": {},
   "outputs": [
    {
     "name": "stdout",
     "output_type": "stream",
     "text": [
      "Labels counts in y: [42617 42617]\n",
      "Labels counts in y_train: [29831 29832]\n",
      "Labels counts in y_test: [12786 12785]\n"
     ]
    }
   ],
   "source": [
    "from sklearn.model_selection import train_test_split\n",
    "from sklearn.preprocessing import LabelEncoder, StandardScaler\n",
    "# 결측값 처리\n",
    "df['bmi'] = df['bmi'].fillna(df['bmi'].mean())  # bmi의 결측값을 평균으로 대체\n",
    "df['smoking_status'] = df['smoking_status'].fillna('Unknown')  # smoking_status의 결측값을 'Unknown'으로 대체\n",
    "\n",
    "# Oversampling을 통한 데이터 불균형 해소\n",
    "positive = df[df['stroke'] == 1]\n",
    "negative = df[df['stroke'] == 0]\n",
    "\n",
    "oversampled_positive = positive.sample(len(negative), replace=True, random_state=42) #양성 클래스 개수를 음성 클래스 개수만큼 복제제\n",
    "balanced_df = pd.concat([negative, oversampled_positive])\n",
    "\n",
    "# 입력 데이터와 타겟 데이터 분리\n",
    "X = balanced_df.drop(columns=['stroke'])\n",
    "y = balanced_df['stroke']\n",
    "\n",
    "# 범주형 변수 인코딩\n",
    "categrocial_cols=['gender', 'ever_married', 'work_type', 'Residence_type', 'smoking_status']\n",
    "for col in categrocial_cols:\n",
    "    X[col] = LabelEncoder().fit_transform(X[col].astype(str))\n",
    "\n",
    "# 학습용과 테스트용 데이터 나누기\n",
    "X_train, X_test, y_train, y_test = train_test_split(X, y, test_size=0.3, random_state=42, stratify=y)\n",
    "#정상적으로 나뉘었는지 확인인\n",
    "print('Labels counts in y:', np.bincount(y))\n",
    "print('Labels counts in y_train:', np.bincount(y_train))\n",
    "print('Labels counts in y_test:', np.bincount(y_test))\n",
    "\n",
    "#X freature 표준화\n",
    "sc = StandardScaler()\n",
    "sc.fit(X_train)\n",
    "X_train = sc.transform(X_train)\n",
    "X_test = sc.transform(X_test)\n"
   ]
  },
  {
   "cell_type": "code",
   "execution_count": null,
   "id": "09ad2890",
   "metadata": {},
   "outputs": [
    {
     "name": "stdout",
     "output_type": "stream",
     "text": [
      "SVM accuracy: 0.8448242149309765\n"
     ]
    }
   ],
   "source": [
    "########################SVM 모델 학습#########################\n",
    "from sklearn.svm import SVC\n",
    "#svm 모델 학습\n",
    "svm_model = SVC(kernel='rbf', C=1.0, random_state=42)\n",
    "svm_model.fit(X_train, y_train)\n",
    "\n",
    "print('SVM accuracy:', svm_model.score(X_test, y_test))\n",
    "#SVM accuracy: 0.8448242149309765"
   ]
  },
  {
   "cell_type": "code",
   "execution_count": null,
   "id": "f0fa9c96",
   "metadata": {},
   "outputs": [
    {
     "name": "stdout",
     "output_type": "stream",
     "text": [
      "평균 AUCROC: 0.9039329164678082\n",
      "평균 AUCPR : 0.8445722790493368\n"
     ]
    }
   ],
   "source": [
    "# SVM AUCROC AUCPR 점수 계산\n",
    "from sklearn.model_selection import cross_val_score\n",
    "\n",
    "roc_scores = cross_val_score(svm_model, X_train, y_train, cv=3, scoring='roc_auc')\n",
    "pr_scores = cross_val_score(svm_model, X_train, y_train, cv=3, scoring='average_precision')\n",
    "\n",
    "print(\"평균 AUCROC:\", roc_scores.mean())\n",
    "print(\"평균 AUCPR :\", pr_scores.mean())\n",
    "#평균 AUCROC: 0.9039329164678082\n",
    "#평균 AUCPR : 0.8445722790493368"
   ]
  },
  {
   "cell_type": "code",
   "execution_count": null,
   "id": "8cc5427a",
   "metadata": {},
   "outputs": [
    {
     "name": "stdout",
     "output_type": "stream",
     "text": [
      "MLP accuracy: 0.9773180556098705\n"
     ]
    },
    {
     "name": "stderr",
     "output_type": "stream",
     "text": [
      "c:\\Users\\magic\\anaconda3\\envs\\hannah924\\Lib\\site-packages\\sklearn\\neural_network\\_multilayer_perceptron.py:691: ConvergenceWarning: Stochastic Optimizer: Maximum iterations (500) reached and the optimization hasn't converged yet.\n",
      "  warnings.warn(\n"
     ]
    }
   ],
   "source": [
    "##################MLP 모델 학습######################\n",
    "from sklearn.neural_network import MLPClassifier\n",
    "\n",
    "mlp=MLPClassifier(hidden_layer_sizes=(64,32), max_iter=500, random_state=42)\n",
    "mlp.fit(X_train, y_train)\n",
    "print('MLP accuracy:', mlp.score(X_test, y_test))\n",
    "\n",
    "#MLP accuracy: 0.9773180556098705\n",
    "\n",
    "##MLPClassifier(\n",
    "#   hidden_layer_sizes=(128, 64, 32),activation='relu',solver='adam',alpha=0.001,  # L2 규제\n",
    "# learning_rate='adaptive',max_iter=500,early_stopping=True,random_state=42)"
   ]
  },
  {
   "cell_type": "code",
   "execution_count": null,
   "id": "f268e622",
   "metadata": {},
   "outputs": [
    {
     "name": "stdout",
     "output_type": "stream",
     "text": [
      "평균 AUCROC: 0.9786021348528643\n",
      "평균 AUCPR : 0.9515377954508728\n"
     ]
    }
   ],
   "source": [
    "#MLP AUCROC AUCPR 점수 계산\n",
    "from sklearn.model_selection import cross_val_score\n",
    "\n",
    "roc_scores = cross_val_score(mlp, X_train, y_train, cv=3, scoring='roc_auc')\n",
    "pr_scores = cross_val_score(mlp, X_train, y_train, cv=3, scoring='average_precision')\n",
    "\n",
    "print(\"평균 AUCROC:\", roc_scores.mean())\n",
    "print(\"평균 AUCPR :\", pr_scores.mean())\n",
    "#평균 AUCROC: 0.9786021348528643\n",
    "#평균 AUCPR : 0.9515377954508728"
   ]
  },
  {
   "cell_type": "markdown",
   "id": "a51328bb",
   "metadata": {},
   "source": []
  }
 ],
 "metadata": {
  "kernelspec": {
   "display_name": "hannah924",
   "language": "python",
   "name": "python3"
  },
  "language_info": {
   "codemirror_mode": {
    "name": "ipython",
    "version": 3
   },
   "file_extension": ".py",
   "mimetype": "text/x-python",
   "name": "python",
   "nbconvert_exporter": "python",
   "pygments_lexer": "ipython3",
   "version": "3.12.9"
  }
 },
 "nbformat": 4,
 "nbformat_minor": 5
}
